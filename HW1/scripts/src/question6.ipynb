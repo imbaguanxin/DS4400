{
 "cells": [
  {
   "cell_type": "markdown",
   "metadata": {},
   "source": [
    "# Question 6\n",
    "\n",
    "### import libraries"
   ]
  },
  {
   "cell_type": "code",
   "execution_count": 2,
   "metadata": {},
   "outputs": [],
   "source": [
    "import matplotlib.pyplot as plt\n",
    "import numpy as np"
   ]
  },
  {
   "cell_type": "markdown",
   "metadata": {},
   "source": [
    "### import data as a global variable"
   ]
  },
  {
   "cell_type": "code",
   "execution_count": 3,
   "metadata": {},
   "outputs": [],
   "source": [
    "data_set = np.array(\n",
    "    [[0.1, 0.15], [0.5, 0.4], [0.9, 0.85], [1.5, 1.62], [-0.2, -0.17], [-0.5, -0.42]]\n",
    ")"
   ]
  },
  {
   "cell_type": "markdown",
   "metadata": {},
   "source": [
    "### functions needed to calculate theta star"
   ]
  },
  {
   "cell_type": "code",
   "execution_count": 4,
   "metadata": {},
   "outputs": [],
   "source": [
    "def calculate_theta():\n",
    "    \"\"\"\n",
    "    Calculate theta star based on data and closed-form\n",
    "    :return: needed theta star\n",
    "    \"\"\"\n",
    "    X = np.array([[p[0]] for p in data_set])\n",
    "    Y = np.array([[p[1]] for p in data_set])\n",
    "    inv = np.linalg.inv(np.matmul(X.transpose(), X))\n",
    "    theta_star = np.matmul(inv, np.matmul(X.transpose(), Y))\n",
    "    return theta_star[0][0]"
   ]
  },
  {
   "cell_type": "markdown",
   "metadata": {},
   "source": [
    "### plot the data in 2D and the estimated line"
   ]
  },
  {
   "cell_type": "code",
   "execution_count": 5,
   "metadata": {},
   "outputs": [
    {
     "data": {
      "image/png": "[encoded data removed]",
      "text/plain": [
       "<Figure size 432x288 with 1 Axes>"
      ]
     },
     "metadata": {
      "needs_background": "light"
     },
     "output_type": "display_data"
    }
   ],
   "source": [
    "theta_star = calculate_theta()\n",
    "x = [p[0] for p in data_set]\n",
    "y = [p[1] for p in data_set]\n",
    "line_x = np.linspace(-1, 2, 2)\n",
    "plt.plot(line_x, line_x * theta_star)\n",
    "plt.scatter(x, y)\n",
    "plt.show()"
   ]
  }
 ],
 "metadata": {
  "kernelspec": {
   "display_name": "Python 3",
   "language": "python",
   "name": "python3"
  },
  "language_info": {
   "codemirror_mode": {
    "name": "ipython",
    "version": 3
   },
   "file_extension": ".py",
   "mimetype": "text/x-python",
   "name": "python",
   "nbconvert_exporter": "python",
   "pygments_lexer": "ipython3",
   "version": "3.6.10"
  }
 },
 "nbformat": 4,
 "nbformat_minor": 2
}

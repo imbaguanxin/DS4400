{
 "cells": [
  {
   "cell_type": "markdown",
   "metadata": {},
   "source": [
    "# HW2Q7 c\n",
    "### import library"
   ]
  },
  {
   "cell_type": "code",
   "execution_count": 5,
   "metadata": {},
   "outputs": [],
   "source": [
    "import matplotlib.pyplot as plt\n",
    "import numpy as np\n",
    "import scipy.io as sio"
   ]
  },
  {
   "cell_type": "markdown",
   "metadata": {},
   "source": [
    "### constants"
   ]
  },
  {
   "cell_type": "code",
   "execution_count": 6,
   "metadata": {},
   "outputs": [],
   "source": [
    "EPSILON = 0.01\n",
    "MAX_ITER = 1000000\n",
    "RHO = 0.01"
   ]
  },
  {
   "cell_type": "markdown",
   "metadata": {},
   "source": [
    "### functions"
   ]
  },
  {
   "cell_type": "code",
   "execution_count": 7,
   "metadata": {},
   "outputs": [],
   "source": [
    "def phi_func(row, n_degree):\n",
    "    if n_degree == -1:\n",
    "        return row\n",
    "    else:\n",
    "        result = np.array([])\n",
    "        for i in row:\n",
    "            for j in range(1, n_degree + 1):\n",
    "                result = np.concatenate([result, [np.power(i, j)]])\n",
    "        return np.concatenate([result, [1]])\n",
    "\n",
    "\n",
    "def feature_normalization(trn, tst, val):\n",
    "    for i in range(0, len(trn[0]) - 1):\n",
    "        avg = np.mean(trn[:, i])\n",
    "        max_minus_min = np.max(trn[:, [i]]) - np.min(trn[:, [i]])\n",
    "        trn[:, [i]] = (trn[:, [i]] - avg) / max_minus_min\n",
    "        tst[:, [i]] = (tst[:, [i]] - avg) / max_minus_min\n",
    "        val[:, [i]] = (val[:, [i]] - avg) / max_minus_min\n",
    "    return trn, tst, val\n",
    "\n",
    "\n",
    "def linear_reg(data, s, lam_da, n_degree=-1, gd_rho=RHO):\n",
    "    data_copy = data.copy()\n",
    "    for key in ['X_trn', 'X_tst', 'X_val']:\n",
    "        data_copy[key] = np.apply_along_axis(phi_func, 1, data_copy[key], n_degree)\n",
    "    # feature normalization:\n",
    "    x_trn = data_copy['X_trn']\n",
    "    x_tst = data_copy['X_tst']\n",
    "    x_val = data_copy['X_val']\n",
    "    x_trn, x_tst, x_val = feature_normalization(x_trn, x_tst, x_val)\n",
    "    data_copy['X_trn'] = x_trn\n",
    "    data_copy['X_tst'] = x_tst\n",
    "    data_copy['X_val'] = x_val\n",
    "    # start regression:\n",
    "    if s == 0:\n",
    "        return (data_copy,) + closed_form_reg(data_copy, lam_da)\n",
    "    elif s == 1:\n",
    "        return (data_copy,) + gradient_descent_reg(data_copy, lam_da, rho=gd_rho)\n",
    "\n",
    "\n",
    "def closed_form_reg(data, lam_da):\n",
    "    theta_star = closed_form_theta(data, lam_da)\n",
    "    err_trn, err_tst, err_val = calc_error(data, theta_star)\n",
    "    return theta_star, err_trn, err_tst, err_val\n",
    "\n",
    "\n",
    "def closed_form_theta(data, lam_da):\n",
    "    x_trn = data['X_trn']\n",
    "    y_trn = data['Y_trn']\n",
    "    xtx = np.matmul(x_trn.transpose(), x_trn)\n",
    "    l_id = lam_da * np.eye(len(xtx[0]), dtype=float)\n",
    "    inv = np.linalg.inv(xtx + l_id)\n",
    "    theta_star_mat = np.matmul(inv, np.matmul(x_trn.transpose(), y_trn))\n",
    "    return theta_star_mat\n",
    "\n",
    "\n",
    "def calc_error(data, theta):\n",
    "    x_train = data['X_trn']\n",
    "    x_test = data['X_tst']\n",
    "    x_val = data['X_val']\n",
    "    y_train = data['Y_trn']\n",
    "    y_test = data['Y_tst']\n",
    "    y_val = data['Y_val']\n",
    "    err_train = calc_error_xytheta(x_train, y_train, theta)\n",
    "    err_test = calc_error_xytheta(x_test, y_test, theta)\n",
    "    err_val = calc_error_xytheta(x_val, y_val, theta)\n",
    "    return err_train, err_test, err_val\n",
    "\n",
    "\n",
    "def calc_error_xytheta(x_mat, y_mat, theta_mat):\n",
    "    err_mat = np.subtract(y_mat, np.matmul(theta_mat.transpose(), x_mat.transpose()).transpose())\n",
    "    err = np.power(np.linalg.norm(err_mat), 2) / len(err_mat)\n",
    "    return err\n",
    "\n",
    "\n",
    "def gradient_descent_reg(data, lamb_da, max_iter=MAX_ITER, rho=RHO, epsilon=EPSILON):\n",
    "    x_train = data['X_trn']\n",
    "    y_train = data['Y_trn']\n",
    "    curr_theta = np.full((len(x_train[0]), 1), 0)\n",
    "    i = 1\n",
    "    for i in range(0, max_iter):\n",
    "        new_theta, new_dir = single_descent(curr_theta, rho, x_train, y_train, lamb_da)\n",
    "        curr_theta = new_theta\n",
    "        if np.linalg.norm(new_dir) < epsilon:\n",
    "            print(\"The total number of iterations is: {} with rho = {}\".format(i + 1, rho))\n",
    "            break\n",
    "    if i >= max_iter - 1:\n",
    "        print(\"Exceeds max iteration: {}; with learning rate: {}\".format(max_iter, rho))\n",
    "    err_trn, err_tst, err_val = calc_error(data, curr_theta)\n",
    "    return curr_theta, err_trn, err_tst, err_val\n",
    "\n",
    "\n",
    "def single_descent(curr_theta, rho, x, y, lamb_da):\n",
    "    xt_x = np.matmul(x.transpose(), x)\n",
    "    xt_y = np.matmul(x.transpose(), y)\n",
    "    new_dir = (np.matmul(xt_x, curr_theta) - xt_y) + lamb_da * curr_theta\n",
    "    theta = curr_theta - new_dir * rho\n",
    "    return theta, new_dir\n",
    "\n",
    "\n",
    "def plot_regression(data, theta, title=\"\"):\n",
    "    # plot scatter point from data set\n",
    "    x = data['x']\n",
    "    y = data['y']\n",
    "    x_first_col = x[:, [0]]\n",
    "    plt.scatter(x_first_col, y)\n",
    "    # plot line generated from theta\n",
    "    theta_x = np.array([np.arange(-1, 1, 0.01)]).transpose()\n",
    "    expanded_x = np.apply_along_axis(phi_func, 1, theta_x, len(theta) - 1)\n",
    "    theta_y = np.matmul(expanded_x, theta)\n",
    "    plt.plot(list(theta_x), list(theta_y))\n",
    "    plt.title(title)\n",
    "    plt.show()"
   ]
  },
  {
   "cell_type": "markdown",
   "metadata": {},
   "source": [
    "### calculating theta on different lambdas\n",
    "I am using the n-powering then normalizing method to compare lambdas.\n",
    "\n",
    "I am only looking at the closed form result to decided which is the best lambda in the following code."
   ]
  },
  {
   "cell_type": "code",
   "execution_count": 15,
   "metadata": {},
   "outputs": [
    {
     "name": "stdout",
     "output_type": "stream",
     "text": [
      "n = 7, lambda = 0.001\n",
      "closed form calculation:\n",
      "theta transpose = \n",
      " [[-12.02177495  -2.28031535  11.26864355  -0.04746883   3.89040996\n",
      "   -0.21904507  -3.01925951  -0.69673862]]\n",
      "validation error: 0.02298079933690731\n",
      "gradient descent calculation:\n",
      "The total number of iterations is: 11919 with rho = 0.01\n",
      "theta transpose = \n",
      " [[-11.9301781   -2.2723808   10.93431306  -0.06482099   4.0865917\n",
      "   -0.20978331  -2.94452463  -0.69673862]]\n",
      "validation error: 0.022613312772216797\n",
      "\n",
      "\n",
      "n = 7, lambda = 0.01\n",
      "closed form calculation:\n",
      "theta transpose = \n",
      " [[-11.17331313  -2.19811369   8.9002535   -0.18623712   4.00157816\n",
      "   -0.16275876  -1.38343455  -0.69663413]]\n",
      "validation error: 0.02385600112687813\n",
      "gradient descent calculation:\n",
      "The total number of iterations is: 9263 with rho = 0.01\n",
      "theta transpose = \n",
      " [[-11.10998774  -2.19246094   8.70899703  -0.19825358   4.01015714\n",
      "   -0.1567974   -1.24026461  -0.69663413]]\n",
      "validation error: 0.024282624330997954\n",
      "\n",
      "\n",
      "n = 7, lambda = 0.1\n",
      "closed form calculation:\n",
      "theta transpose = \n",
      " [[-8.64560623 -1.89776091  3.26711063 -0.51987841  3.4624857  -0.09695454\n",
      "   2.42308894 -0.69559092]]\n",
      "validation error: 0.08922558827598198\n",
      "gradient descent calculation:\n",
      "The total number of iterations is: 2870 with rho = 0.01\n",
      "theta transpose = \n",
      " [[-8.62619748 -1.89611749  3.2095945  -0.52330525  3.46161373 -0.09531616\n",
      "   2.46948911 -0.69559092]]\n",
      "validation error: 0.08995119350395128\n",
      "\n",
      "\n",
      "n = 7, lambda = 1\n",
      "closed form calculation:\n",
      "theta transpose = \n",
      " [[-4.70284265 -1.22470657  0.24923209 -0.6502865   1.34229792 -0.35740805\n",
      "   1.63340388 -0.6853281 ]]\n",
      "validation error: 0.6382711477331524\n",
      "gradient descent calculation:\n",
      "The total number of iterations is: 393 with rho = 0.01\n",
      "theta transpose = \n",
      " [[-4.6986762  -1.22391661  0.24322377 -0.65068824  1.34054624 -0.35772311\n",
      "   1.63567034 -0.6853281 ]]\n",
      "validation error: 0.639006086633026\n",
      "\n",
      "\n",
      "n = 7, lambda = 10\n",
      "closed form calculation:\n",
      "theta transpose = \n",
      " [[-1.34899539 -0.53204657 -0.38805072 -0.43307085 -0.10392379 -0.35971099\n",
      "   0.01143256 -0.59721449]]\n",
      "validation error: 1.8932713618191497\n",
      "gradient descent calculation:\n",
      "The total number of iterations is: 61 with rho = 0.01\n",
      "theta transpose = \n",
      " [[-1.34848954 -0.53196533 -0.38825586 -0.43307881 -0.10426445 -0.35975762\n",
      "   0.01106846 -0.59721449]]\n",
      "validation error: 1.8934873403410755\n",
      "\n",
      "\n",
      "n = 7, lambda = 100\n",
      "closed form calculation:\n",
      "theta transpose = \n",
      " [[-0.20642341 -0.10461187 -0.08676939 -0.09234815 -0.04730058 -0.0805544\n",
      "  -0.02933348 -0.26128134]]\n",
      "validation error: 2.9639952295544005\n",
      "gradient descent calculation:\n",
      "The total number of iterations is: 18 with rho = 0.01\n",
      "theta transpose = \n",
      " [[-0.20642341 -0.10461187 -0.08676939 -0.09234815 -0.04730058 -0.0805544\n",
      "  -0.02933348 -0.2612548 ]]\n",
      "validation error: 2.9640051444442204\n",
      "\n",
      "\n"
     ]
    }
   ],
   "source": [
    "d1 = sio.loadmat('./data/dataset_hw2.mat')\n",
    "d1.pop('__header__')\n",
    "d1.pop('__version__')\n",
    "d1.pop('__globals__')\n",
    "\n",
    "closed_val_err_list = []\n",
    "gd_val_err_list = []\n",
    "lambda_list =  [0.001, 0.01, 0.1, 1, 10, 100]\n",
    "for lamb_da in lambda_list:\n",
    "    print('n = 7, lambda = {}'.format(lamb_da))\n",
    "    print(\"closed form calculation:\")\n",
    "    data_copy, theta_star, err_trn, err_tst, err_val = linear_reg(d1, 0, lamb_da, n_degree=7)\n",
    "    closed_val_err_list.append(err_val)\n",
    "    print(\"theta transpose = \\n {}\".format(theta_star.transpose()))\n",
    "    print(\"validation error: {}\".format(err_val))\n",
    "    print(\"gradient descent calculation:\")\n",
    "    data_copy, theta_star, err_trn, err_tst, err_val = linear_reg(d1, 1, lamb_da, n_degree=7)\n",
    "    gd_val_err_list.append(err_val)\n",
    "    print(\"theta transpose = \\n {}\".format(theta_star.transpose()))\n",
    "    print(\"validation error: {}\".format(err_val))\n",
    "    print(\"\\n\")"
   ]
  },
  {
   "cell_type": "markdown",
   "metadata": {},
   "source": [
    "### Draw the validation error as a function of the regularization parameter\n",
    "The x label is -3, -2, -1, 1,2,3 each representing the power of 10. i.e. -3 -> 10^{-3}\n",
    "\n",
    "NOTE: there is no data for 10^0"
   ]
  },
  {
   "cell_type": "code",
   "execution_count": 17,
   "metadata": {},
   "outputs": [
    {
     "data": {
      "image/png": "[encoded data removed]",
      "text/plain": [
       "<Figure size 432x288 with 1 Axes>"
      ]
     },
     "metadata": {
      "needs_background": "light"
     },
     "output_type": "display_data"
    }
   ],
   "source": [
    "plt.plot(np.array([-3,-2,-1,1,2,3]), closed_val_err_list)\n",
    "plt.title(\"Closed form validation set errors\")\n",
    "plt.xlabel('lambda (in 10^x)')\n",
    "plt.ylabel('error')\n",
    "plt.show()"
   ]
  },
  {
   "cell_type": "code",
   "execution_count": 18,
   "metadata": {},
   "outputs": [
    {
     "data": {
      "image/png": "[encoded data removed]",
      "text/plain": [
       "<Figure size 432x288 with 1 Axes>"
      ]
     },
     "metadata": {
      "needs_background": "light"
     },
     "output_type": "display_data"
    }
   ],
   "source": [
    "plt.plot(np.array([-3,-2,-1,1,2,3]), gd_val_err_list)\n",
    "plt.title(\"Gradient descent validation set errors\")\n",
    "plt.xlabel('lambda (in 10^x)')\n",
    "plt.ylabel('error')\n",
    "plt.show()"
   ]
  },
  {
   "cell_type": "code",
   "execution_count": 22,
   "metadata": {},
   "outputs": [
    {
     "name": "stdout",
     "output_type": "stream",
     "text": [
      "n = 7, lambda = 0.001 gives the best result\n",
      "closed form calculation:\n",
      "theta transpose = \n",
      " [[-12.02177495  -2.28031535  11.26864355  -0.04746883   3.89040996\n",
      "   -0.21904507  -3.01925951  -0.69673862]]\n",
      "testing error: 0.02391661269397512\n"
     ]
    }
   ],
   "source": [
    "min_err_lambda = lambda_list[np.argmin(closed_val_err_list)]\n",
    "print('n = 7, lambda = {} gives the best result'.format(min_err_lambda))\n",
    "print(\"closed form calculation:\")\n",
    "data_copy, theta_star, err_trn, err_tst, err_val = linear_reg(d1, 0, min_err_lambda, n_degree=7)\n",
    "print(\"theta transpose = \\n {}\".format(theta_star.transpose()))\n",
    "print(\"testing error: {}\".format(err_tst))"
   ]
  },
  {
   "cell_type": "code",
   "execution_count": null,
   "metadata": {},
   "outputs": [],
   "source": []
  }
 ],
 "metadata": {
  "kernelspec": {
   "display_name": "Python 3",
   "language": "python",
   "name": "python3"
  },
  "language_info": {
   "codemirror_mode": {
    "name": "ipython",
    "version": 3
   },
   "file_extension": ".py",
   "mimetype": "text/x-python",
   "name": "python",
   "nbconvert_exporter": "python",
   "pygments_lexer": "ipython3",
   "version": "3.8.1"
  }
 },
 "nbformat": 4,
 "nbformat_minor": 4
}

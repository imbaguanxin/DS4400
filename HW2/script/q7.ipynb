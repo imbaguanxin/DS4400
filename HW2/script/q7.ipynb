{
 "cells": [
  {
   "cell_type": "markdown",
   "metadata": {},
   "source": [
    "# HW2Q7\n",
    "### import library"
   ]
  },
  {
   "cell_type": "code",
   "execution_count": 1,
   "metadata": {},
   "outputs": [],
   "source": [
    "import matplotlib.pyplot as plt\n",
    "from mpl_toolkits.mplot3d import Axes3D\n",
    "import numpy as np\n",
    "import scipy.io as sio"
   ]
  },
  {
   "cell_type": "markdown",
   "metadata": {},
   "source": [
    "### constants"
   ]
  },
  {
   "cell_type": "code",
   "execution_count": 2,
   "metadata": {},
   "outputs": [],
   "source": [
    "EPSILON = 0.001\n",
    "MAX_ITER = 10000\n",
    "RHO = 0.0001"
   ]
  },
  {
   "cell_type": "markdown",
   "metadata": {},
   "source": [
    "### functions"
   ]
  },
  {
   "cell_type": "code",
   "execution_count": 8,
   "metadata": {},
   "outputs": [],
   "source": [
    "def phi_func(row, n_degree):\n",
    "    result = np.array([])\n",
    "    for i in row:\n",
    "        for j in range(1, n_degree + 1):\n",
    "            result = np.concatenate([result, [np.power(i, j)]])\n",
    "    return np.concatenate([result, [1]])\n",
    "\n",
    "\n",
    "def linear_reg(data, s):\n",
    "    if s == 0:\n",
    "        return closed_form_reg(data)\n",
    "    elif s == 1:\n",
    "        return gradient_descent_reg(data)\n",
    "\n",
    "\n",
    "def closed_form_reg(data):\n",
    "    theta_star = closed_form_theta(data)\n",
    "    err_trn, err_tst, err_val = calc_error(data, theta_star)\n",
    "    return theta_star, err_trn, err_tst, err_val\n",
    "\n",
    "\n",
    "def closed_form_theta(data):\n",
    "    x_trn = data['X_trn']\n",
    "    y_trn = data['Y_trn']\n",
    "    inv = np.linalg.inv(np.matmul(x_trn.transpose(), x_trn))\n",
    "    theta_star_mat = np.matmul(inv, np.matmul(x_trn.transpose(), y_trn))\n",
    "    return theta_star_mat\n",
    "\n",
    "\n",
    "def calc_error(data, theta):\n",
    "    x_train = data['X_trn']\n",
    "    x_test = data['X_tst']\n",
    "    x_val = data['X_val']\n",
    "    y_train = data['Y_trn']\n",
    "    y_test = data['Y_tst']\n",
    "    y_val = data['Y_val']\n",
    "    err_train = calc_error_xytheta(x_train, y_train, theta)\n",
    "    err_test = calc_error_xytheta(x_test, y_test, theta)\n",
    "    err_val = calc_error_xytheta(x_val, y_val, theta)\n",
    "    return err_train, err_test, err_val\n",
    "\n",
    "\n",
    "def calc_error_xytheta(x_mat, y_mat, theta_mat):\n",
    "    err_mat = np.subtract(y_mat, np.matmul(theta_mat.transpose(), x_mat.transpose()).transpose())\n",
    "    err = np.power(np.linalg.norm(err_mat), 2) / len(err_mat)\n",
    "    return err\n",
    "\n",
    "\n",
    "def gradient_descent_reg(data, max_iter=MAX_ITER, rho=RHO, epsilon=EPSILON):\n",
    "    x_train = data['X_trn']\n",
    "    y_train = data['Y_trn']\n",
    "\n",
    "    curr_theta = np.zeros((len(x_train[0]), 1))\n",
    "    i = 1\n",
    "    for i in range(0, max_iter):\n",
    "        new_theta, new_dir = single_descent(curr_theta, rho, x_train, y_train)\n",
    "        curr_theta = new_theta\n",
    "        if np.linalg.norm(new_dir) < epsilon:\n",
    "            print(\"The total number of iterations is: {}\".format(i + 1))\n",
    "            break\n",
    "    if i >= max_iter - 1:\n",
    "        print(\"Exceeds max iteration: {}; with learning rate: {}\".format(max_iter, rho))\n",
    "    err_trn, err_tst, err_val = calc_error(data, curr_theta)\n",
    "    return curr_theta, err_trn, err_tst, err_val\n",
    "\n",
    "\n",
    "def single_descent(curr_theta, rho, x, y):\n",
    "    xt_x = np.matmul(x.transpose(), x)\n",
    "    xt_y = np.matmul(x.transpose(), y)\n",
    "    new_dir = 2 * (np.matmul(xt_x, curr_theta) - xt_y)\n",
    "    theta = curr_theta - new_dir * rho\n",
    "    return theta, new_dir"
   ]
  },
  {
   "cell_type": "code",
   "execution_count": 7,
   "metadata": {},
   "outputs": [
    {
     "name": "stdout",
     "output_type": "stream",
     "text": [
      "[[-0.41728182]]\n",
      "113.39051829534851\n",
      "68.37993300084283\n",
      "97.95261443246574\n",
      "The total number of iterations is: 117\n",
      "[[-0.41728104]]\n",
      "113.39051829567065\n",
      "68.37998408241556\n",
      "97.95261614777779\n"
     ]
    }
   ],
   "source": [
    "d1 = sio.loadmat('./data/dataset_hw2.mat')\n",
    "# print(d1.keys())\n",
    "theta_star, err_trn, err_tst, err_val = linear_reg(d1, 0)\n",
    "print(theta_star)\n",
    "print(err_trn)\n",
    "print(err_tst)\n",
    "print(err_val)\n",
    "theta_star, err_trn, err_tst, err_val = linear_reg(d1, 1)\n",
    "print(theta_star)\n",
    "print(err_trn)\n",
    "print(err_tst)\n",
    "print(err_val)"
   ]
  },
  {
   "cell_type": "code",
   "execution_count": null,
   "metadata": {},
   "outputs": [],
   "source": []
  }
 ],
 "metadata": {
  "kernelspec": {
   "display_name": "Python 3",
   "language": "python",
   "name": "python3"
  },
  "language_info": {
   "codemirror_mode": {
    "name": "ipython",
    "version": 3
   },
   "file_extension": ".py",
   "mimetype": "text/x-python",
   "name": "python",
   "nbconvert_exporter": "python",
   "pygments_lexer": "ipython3",
   "version": "3.7.6"
  }
 },
 "nbformat": 4,
 "nbformat_minor": 4
}
